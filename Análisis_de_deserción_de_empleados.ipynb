{
  "nbformat": 4,
  "nbformat_minor": 0,
  "metadata": {
    "colab": {
      "provenance": [],
      "authorship_tag": "ABX9TyOUbQWw/de6bF8RbixGPhpe",
      "include_colab_link": true
    },
    "kernelspec": {
      "name": "python3",
      "display_name": "Python 3"
    },
    "language_info": {
      "name": "python"
    }
  },
  "cells": [
    {
      "cell_type": "markdown",
      "metadata": {
        "id": "view-in-github",
        "colab_type": "text"
      },
      "source": [
        "<a href=\"https://colab.research.google.com/github/wereketenge/Projects/blob/main/An%C3%A1lisis_de_deserci%C3%B3n_de_empleados.ipynb\" target=\"_parent\"><img src=\"https://colab.research.google.com/assets/colab-badge.svg\" alt=\"Open In Colab\"/></a>"
      ]
    },
    {
      "cell_type": "code",
      "execution_count": 3,
      "metadata": {
        "colab": {
          "base_uri": "https://localhost:8080/"
        },
        "id": "CUCmmNnJhS2T",
        "outputId": "8edda20e-14a3-44b5-ae75-b78d989ec0c7"
      },
      "outputs": [
        {
          "output_type": "stream",
          "name": "stdout",
          "text": [
            "Drive already mounted at /content/drive; to attempt to forcibly remount, call drive.mount(\"/content/drive\", force_remount=True).\n",
            "Archivo Excel generado en tu Drive: /content/drive/MyDrive/Colab Notebooks/DS_C2_SC3/DS_C2_SC3_JosueVillalobos.xlsx\n"
          ]
        },
        {
          "output_type": "stream",
          "name": "stderr",
          "text": [
            "WARNING:root:pydrive is deprecated and no longer maintained. We recommend that you migrate your projects to pydrive2, the maintained fork of pydrive\n"
          ]
        },
        {
          "output_type": "stream",
          "name": "stdout",
          "text": [
            "🔗 Enlace público del archivo:\n",
            "https://docs.google.com/spreadsheets/d/1Mv7GNrET8otiDZ79PXigSmYKJFwpPWlc/edit?usp=drivesdk&ouid=108847019486375044123&rtpof=true&sd=true\n"
          ]
        }
      ],
      "source": [
        "from google.colab import drive\n",
        "drive.mount('/content/drive')\n",
        "\n",
        "import pandas as pd\n",
        "import os\n",
        "\n",
        "base_path = \"/content/drive/MyDrive/Colab Notebooks/DS_C2_SC3/\"\n",
        "file_name = \"DS_C2_SC3_JosueVillalobos.xlsx\"\n",
        "output_path = os.path.join(base_path, file_name)\n",
        "\n",
        "# Cargar archivos\n",
        "test = pd.read_csv(base_path + \"test.csv\")\n",
        "test2 = pd.read_csv(base_path + \"test2.csv\")\n",
        "train = pd.read_csv(base_path + \"train.csv\")\n",
        "train2 = pd.read_csv(base_path + \"train2.csv\")\n",
        "\n",
        "# Unificar y limpiar datos\n",
        "empleados = pd.concat([test, train], ignore_index=True)\n",
        "soporte = pd.concat([test2, train2], ignore_index=True)\n",
        "soporte.columns = soporte.columns.str.strip()\n",
        "\n",
        "df = pd.merge(empleados, soporte, on='Employee_ID', how='left')\n",
        "df['Computer_OS'] = df['Computer_OS'].fillna(\"No registrado\")\n",
        "df['Mobile_OS'] = df['Mobile_OS'].fillna(\"No registrado\")\n",
        "df['Computer_tickets'] = pd.to_numeric(df['Computer_tickets'], errors='coerce').fillna(0).astype(int)\n",
        "df['Mobile_tickets'] = pd.to_numeric(df['Mobile_tickets'], errors='coerce').fillna(0).astype(int)\n",
        "\n",
        "# Consultas\n",
        "porcentaje_pc = df['Computer_OS'].value_counts(normalize=True).mul(100).round(2).reset_index()\n",
        "porcentaje_pc.columns = ['Sistema Operativo de Computadora', 'Porcentaje']\n",
        "\n",
        "porcentaje_mobile = df['Mobile_OS'].value_counts(normalize=True).mul(100).round(2).reset_index()\n",
        "porcentaje_mobile.columns = ['Sistema Operativo Móvil', 'Porcentaje']\n",
        "\n",
        "edad_promedio = df.groupby('Computer_OS')['Age'].mean().round(2).reset_index()\n",
        "edad_promedio.columns = ['Sistema Operativo de Computadora', 'Edad Promedio']\n",
        "\n",
        "educacion_promedio = df.groupby('Computer_OS')['Education_Level'].mean().round(2).reset_index()\n",
        "educacion_promedio.columns = ['Sistema Operativo de Computadora', 'Nivel Educativo Promedio']\n",
        "\n",
        "tickets_por_so = df.groupby('Computer_OS')['Computer_tickets'].sum().reset_index()\n",
        "tickets_por_so.columns = ['Sistema Operativo de Computadora', 'Total de Tickets']\n",
        "\n",
        "# Guardar archivo Excel\n",
        "with pd.ExcelWriter(output_path) as writer:\n",
        "    porcentaje_pc.to_excel(writer, sheet_name='Porcentaje_PC', index=False)\n",
        "    porcentaje_mobile.to_excel(writer, sheet_name='Porcentaje_Movil', index=False)\n",
        "    edad_promedio.to_excel(writer, sheet_name='Edad_Promedio', index=False)\n",
        "    educacion_promedio.to_excel(writer, sheet_name='Nivel_Educativo', index=False)\n",
        "    tickets_por_so.to_excel(writer, sheet_name='Tickets_PC', index=False)\n",
        "\n",
        "print(\"Archivo Excel generado en tu Drive:\", output_path)\n",
        "\n",
        "# Compartir públicamente el archivo\n",
        "!pip install -U -q PyDrive\n",
        "\n",
        "from pydrive.auth import GoogleAuth\n",
        "from pydrive.drive import GoogleDrive\n",
        "from google.colab import auth\n",
        "from oauth2client.client import GoogleCredentials\n",
        "\n",
        "# Autenticación\n",
        "auth.authenticate_user()\n",
        "gauth = GoogleAuth()\n",
        "gauth.credentials = GoogleCredentials.get_application_default()\n",
        "drive = GoogleDrive(gauth)\n",
        "\n",
        "# Subir archivo desde Drive a PyDrive para compartir\n",
        "uploaded_file = drive.CreateFile({'title': file_name})\n",
        "uploaded_file.SetContentFile(output_path)\n",
        "uploaded_file.Upload()\n",
        "\n",
        "# Dar permisos públicos de solo lectura\n",
        "uploaded_file.InsertPermission({\n",
        "    'type': 'anyone',\n",
        "    'value': 'anyone',\n",
        "    'role': 'reader'\n",
        "})\n",
        "\n",
        "# Mostrar enlace compartible\n",
        "print(\"Enlace público del archivo:\")\n",
        "print(uploaded_file['alternateLink'])\n",
        "\n",
        "\n",
        "\n"
      ]
    }
  ]
}
