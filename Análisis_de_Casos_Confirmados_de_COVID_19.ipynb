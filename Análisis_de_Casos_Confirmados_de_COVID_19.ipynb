{
  "nbformat": 4,
  "nbformat_minor": 0,
  "metadata": {
    "colab": {
      "provenance": [],
      "authorship_tag": "ABX9TyNnomT3si/46jyBSAsDK1Ip",
      "include_colab_link": true
    },
    "kernelspec": {
      "name": "python3",
      "display_name": "Python 3"
    },
    "language_info": {
      "name": "python"
    }
  },
  "cells": [
    {
      "cell_type": "markdown",
      "metadata": {
        "id": "view-in-github",
        "colab_type": "text"
      },
      "source": [
        "<a href=\"https://colab.research.google.com/github/wereketenge/Proyectos/blob/main/An%C3%A1lisis_de_Casos_Confirmados_de_COVID_19.ipynb\" target=\"_parent\"><img src=\"https://colab.research.google.com/assets/colab-badge.svg\" alt=\"Open In Colab\"/></a>"
      ]
    },
    {
      "cell_type": "markdown",
      "source": [
        "Josue Alberto Villalobos Marquez - Reto"
      ],
      "metadata": {
        "id": "NNyIpiXKJOYI"
      }
    },
    {
      "cell_type": "code",
      "source": [
        "import csv\n",
        "\n",
        "# Montar Google Drive\n",
        "from google.colab import drive\n",
        "drive.mount('/content/drive')\n",
        "\n",
        "# Ruta al archivo Google Drive\n",
        "ruta_archivo = '/content/drive/MyDrive/casos_confirmados.csv'\n",
        "\n",
        "# Se lee el archivo y se procesa los datos\n",
        "def analizar_casos(ruta_csv):\n",
        "    with open(ruta_csv, encoding=\"utf-8\") as f:\n",
        "        reader = csv.reader(f)\n",
        "        header = next(reader)\n",
        "\n",
        "        edades = []\n",
        "        conteo_hombres = 0\n",
        "        conteo_mujeres = 0\n",
        "\n",
        "        for row in reader:\n",
        "            try:\n",
        "                edad = int(row[header.index(\"Age\")])\n",
        "                genero = row[header.index(\"Sex\")].strip().upper()\n",
        "\n",
        "                edades.append(edad)\n",
        "\n",
        "                if genero == \"MASCULINO\":\n",
        "                    conteo_hombres += 1\n",
        "                elif genero == \"FEMENINO\":\n",
        "                    conteo_mujeres += 1\n",
        "            except (ValueError, IndexError):\n",
        "                continue\n",
        "\n",
        "    edad_promedio = sum(edades) / len(edades) if edades else 0\n",
        "    genero_predominante = (\n",
        "        \"hombres\" if conteo_hombres > conteo_mujeres else\n",
        "        \"mujeres\" if conteo_mujeres > conteo_hombres else\n",
        "        \"igual número de hombres y mujeres\"\n",
        "    )\n",
        "\n",
        "    print(f\"Edad promedio de los pacientes: {edad_promedio:.2f} años\")\n",
        "    print(f\"Hombres contagiados: {conteo_hombres}\")\n",
        "    print(f\"Mujeres contagiadas: {conteo_mujeres}\")\n",
        "    print(f\"Género con más contagios: {genero_predominante}\")\n",
        "\n",
        "# Ejecutar análisis\n",
        "analizar_casos(ruta_archivo)"
      ],
      "metadata": {
        "colab": {
          "base_uri": "https://localhost:8080/"
        },
        "id": "b0Fpe2HAzKz0",
        "outputId": "882416fb-f879-447d-dff2-c95a8e2f343c"
      },
      "execution_count": null,
      "outputs": [
        {
          "output_type": "stream",
          "name": "stdout",
          "text": [
            "Drive already mounted at /content/drive; to attempt to forcibly remount, call drive.mount(\"/content/drive\", force_remount=True).\n",
            "Edad promedio de los pacientes: 45.32 años\n",
            "Hombres contagiados: 198358\n",
            "Mujeres contagiadas: 172354\n",
            "Género con más contagios: hombres\n"
          ]
        }
      ]
    }
  ]
}